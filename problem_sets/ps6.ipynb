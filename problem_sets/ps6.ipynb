{
 "cells": [
  {
   "cell_type": "code",
   "execution_count": null,
   "metadata": {
    "colab": {},
    "colab_type": "code",
    "id": "GVS0hSFwurJw"
   },
   "outputs": [],
   "source": [
    "### PLEASE FILL THESE IN\n",
    "\n",
    "# Student Name:\n",
    "# Student Email:"
   ]
  },
  {
   "cell_type": "markdown",
   "metadata": {
    "colab_type": "text",
    "id": "GFFHgR8Pidwm"
   },
   "source": [
    "# Problem Set #6 - Strings\n",
    "\n",
    "This assignment is worth 10 points. You will need to write a function that accomplishes the goal of each problem statement. You must make sure that you function name and parameters are exactly as specified. If your function fails any of the tests, either in this notebook or ones that I define outside of this notebook, the exercise will be marked incorrect."
   ]
  },
  {
   "cell_type": "markdown",
   "metadata": {
    "colab_type": "text",
    "id": "G0bJjikxr_TN"
   },
   "source": [
    "### Here is an example of a problem statement and a proper solution that passes the associated tests on the cell below."
   ]
  },
  {
   "cell_type": "markdown",
   "metadata": {
    "colab_type": "text",
    "id": "G0bJjikxr_TN"
   },
   "source": [
    "## Example Exercise\n",
    "name:\n",
    "    \n",
    "    add\n",
    "\n",
    "arguments:\n",
    "\n",
    "    * a (numeric),\n",
    "    \n",
    "    * b (numeric),\n",
    "    \n",
    "    * inverse (bool; optional: default=False)\n",
    "    \n",
    "returns:\n",
    "\n",
    "    a + b or a + b * -1 if inverse"
   ]
  },
  {
   "cell_type": "code",
   "execution_count": null,
   "metadata": {},
   "outputs": [],
   "source": [
    "def add(a, b, inverse=False):\n",
    "    if inverse:\n",
    "        return (a + b) * -1\n",
    "    else:\n",
    "        return a + b"
   ]
  },
  {
   "cell_type": "code",
   "execution_count": null,
   "metadata": {},
   "outputs": [],
   "source": [
    "assert add(1, 2) == 3\n",
    "assert add(1, 2, True) == -3\n",
    "assert add(1, 2, inverse=True) == -3"
   ]
  },
  {
   "cell_type": "markdown",
   "metadata": {
    "colab_type": "text",
    "id": "5Ob7rR5ew8et"
   },
   "source": [
    "## Exercise #1\n",
    "\n",
    "name:\n",
    "\n",
    "    is_palindrome\n",
    "\n",
    "arguments:\n",
    "\n",
    "    * s (str)\n",
    "    \n",
    "returns:\n",
    "    \n",
    "    Return True if s is a palindrome and False if not\n",
    "    \n",
    "    A palindrome is a word, phrase, or sequence that reads the same backward as forward, e.g., madam or nurses run."
   ]
  },
  {
   "cell_type": "code",
   "execution_count": null,
   "metadata": {},
   "outputs": [],
   "source": [
    "### is_palindrome goes here"
   ]
  },
  {
   "cell_type": "code",
   "execution_count": null,
   "metadata": {
    "colab": {},
    "colab_type": "code",
    "id": "p89DaP_Q60Cx"
   },
   "outputs": [],
   "source": [
    "assert is_palindrome('12345') == False\n",
    "assert is_palindrome('12321') == True\n",
    "assert is_palindrome('123321') == True"
   ]
  },
  {
   "cell_type": "markdown",
   "metadata": {
    "colab_type": "text",
    "id": "prlBa_bdxCF7"
   },
   "source": [
    "## Exercise #2\n",
    "\n",
    "name:\n",
    "    \n",
    "    swap_case\n",
    "\n",
    "arguments:\n",
    "\n",
    "    * s (str)\n",
    "\n",
    "returns:\n",
    "\n",
    "    Swap the case of every character in the string s\n",
    "    \n",
    "    ie make lowercase letters uppercase and uppercase letters lowercase"
   ]
  },
  {
   "cell_type": "code",
   "execution_count": null,
   "metadata": {},
   "outputs": [],
   "source": [
    "### swap_case goes here"
   ]
  },
  {
   "cell_type": "code",
   "execution_count": null,
   "metadata": {
    "colab": {},
    "colab_type": "code",
    "id": "V4qtajafxJpI"
   },
   "outputs": [],
   "source": [
    "assert swap_case('Testing') == 'tESTING'\n",
    "assert swap_case('TESTING') == 'testing'\n",
    "assert swap_case('testing') == 'TESTING'"
   ]
  },
  {
   "cell_type": "markdown",
   "metadata": {
    "colab_type": "text",
    "id": "xSFlGkeByTym"
   },
   "source": [
    "## Exercise #3\n",
    "\n",
    "name:\n",
    "    \n",
    "    count_lead_letter\n",
    "\n",
    "arguments:\n",
    "    \n",
    "    * s (str): s will all lowercase letter with no puntuation\n",
    "    \n",
    "returns:\n",
    "\n",
    "    A dictionary keyed by a letter and it's value is a count of the number of times that letter is the first character in a word in the string s\n",
    "    \n",
    "note:\n",
    "\n",
    "    Each word is seperated by a single space"
   ]
  },
  {
   "cell_type": "code",
   "execution_count": null,
   "metadata": {},
   "outputs": [],
   "source": [
    "### count_lead_letter goes here"
   ]
  },
  {
   "cell_type": "code",
   "execution_count": null,
   "metadata": {
    "colab": {},
    "colab_type": "code",
    "id": "BMyGDCxA1jUP"
   },
   "outputs": [],
   "source": [
    "result = count_lead_letter('this is totally a testy test')\n",
    "assert result['t'] == 4\n",
    "assert result['a'] == 1\n",
    "assert result['i'] == 1"
   ]
  },
  {
   "cell_type": "markdown",
   "metadata": {
    "colab_type": "text",
    "id": "Teo1QQIM7on2"
   },
   "source": [
    "## Exercise #4\n",
    "\n",
    "name:\n",
    "\n",
    "    good_movies\n",
    "\n",
    "arguments:\n",
    "\n",
    "    * good_cutoff (int), 0 <= good_cutoff <= 100\n",
    "    \n",
    "returns:\n",
    "\n",
    "    A list of movie names.\n",
    "\n",
    "    The string `deniro_movies` is given to you and should be considered a global variable. It contains the rotten tomato ratings for a list of robert deniro movies. Each line is a different movie and each line has 3 data points seperated by a comma. The first data point is the year the movie eas relased, the second one is the movie rating and the third is the name of the movie.\n",
    "    \n",
    "    Your mission is to return a list of good movies. Of course, everyone has a different level of \"good\" so the integer passed in should be looked at as a cutoff point. Every movie that has a rating >= the `good_cutoff` number should have its name added to the list that gets returned"
   ]
  },
  {
   "cell_type": "code",
   "execution_count": null,
   "metadata": {},
   "outputs": [],
   "source": [
    "deniro_movies = '''1968,  86, Greetings\n",
    "1970,  17, Bloody Mama\n",
    "1970,  73, Hi Mom!\n",
    "1971,  40, Born to Win\n",
    "1973,  98, Mean Streets\n",
    "1973,  88, Bang the Drum Slowly\n",
    "1974,  97, The Godfather Part II\n",
    "1976,  41, The Last Tycoon\n",
    "1976,  99, Taxi Driver\n",
    "1977,  47, 1900\n",
    "1977,  67, New York New York\n",
    "1978,  93, The Deer Hunter\n",
    "1980,  97, Raging Bull\n",
    "1981,  75, True Confessions\n",
    "1983,  90, The King of Comedy\n",
    "1984,  89, Once Upon a Time in America\n",
    "1984,  60, Falling in Love\n",
    "1985,  98, Brazil\n",
    "1986,  65, The Mission\n",
    "1987, 100, Dear America: Letters Home From Vietnam\n",
    "1987,  80, The Untouchables\n",
    "1987,  78, Angel Heart\n",
    "1988,  96, Midnight Run\n",
    "1989,  64, Jacknife\n",
    "1989,  47, We're No Angels\n",
    "1990,  88, Awakenings\n",
    "1990,  29, Stanley & Iris\n",
    "1990,  96, Goodfellas\n",
    "1991,  76, Cape Fear\n",
    "1991,  69, Mistress\n",
    "1991,  65, Guilty by Suspicion\n",
    "1991,  71, Backdraft\n",
    "1992,  87, Thunderheart\n",
    "1992,  67, Night and the City\n",
    "1993,  75, This Boy's Life\n",
    "1993,  78, Mad Dog and Glory\n",
    "1993,  96, A Bronx Tale\n",
    "1994,  39, Mary Shelley's Frankenstein\n",
    "1995,  80, Casino\n",
    "1995,  86, Heat\n",
    "1996,  74, Sleepers\n",
    "1996,  38, The Fan\n",
    "1996,  80, Marvin's Room\n",
    "1997,  85, Wag the Dog\n",
    "1997,  87, Jackie Brown\n",
    "1997,  72, Cop Land\n",
    "1998,  68, Ronin\n",
    "1998,  38, Great Expectations\n",
    "1999,  69, Analyze This\n",
    "1999,  43, Flawless\n",
    "2000,  43, The Adventures of Rocky & Bullwinkle\n",
    "2000,  84, Meet the Parents\n",
    "2000,  41, Men of Honor\n",
    "2001,  73, The Score\n",
    "2001,  33, 15 Minutes\n",
    "2002,  48, City by the Sea\n",
    "2002,  27, Analyze That\n",
    "2003,   4, Godsend\n",
    "2004,  35, Shark Tale\n",
    "2004,  38, Meet the Fockers\n",
    "2005,   4, The Bridge of San Luis Rey\n",
    "2005,  46, Rent\n",
    "2005,  13, Hide and Seek\n",
    "2006,  54, The Good Shepherd\n",
    "2007,  21, Arthur and the Invisibles\n",
    "2007,  76, Captain Shakespeare\n",
    "2008,  19, Righteous Kill\n",
    "2008,  51, What Just Happened?\n",
    "2009,  46, Everybody's Fine\n",
    "2010,  72, Machete\n",
    "2010,  10, Little Fockers\n",
    "2010,  50, Stone\n",
    "2011,  25, Killer Elite\n",
    "2011,   7, New Year's Eve\n",
    "2011,  70, Limitless\n",
    "2012,  92, Silver Linings Playbook\n",
    "2012,  51, Being Flynn\n",
    "2012,  29, Red Lights\n",
    "2013,  46, Last Vegas\n",
    "2013,   7, The Big Wedding\n",
    "2013,  29, Grudge Match\n",
    "2013,  11, Killing Season\n",
    "2014,   9, The Bag Man\n",
    "2015,  60, Joy\n",
    "2015,  26, Heist\n",
    "2015,  61, The Intern\n",
    "2016,  11, Dirty Grandpa'''"
   ]
  },
  {
   "cell_type": "code",
   "execution_count": null,
   "metadata": {},
   "outputs": [],
   "source": [
    "### good_movies goes here"
   ]
  },
  {
   "cell_type": "code",
   "execution_count": null,
   "metadata": {},
   "outputs": [],
   "source": [
    "result = good_movies(90)\n",
    "assert len(result) == 12\n",
    "assert 'Silver Linings Playbook' in result\n",
    "assert 'The King of Comedy' in result\n",
    "assert 'Once Upon a Time in America' not in result"
   ]
  }
 ],
 "metadata": {
  "colab": {
   "collapsed_sections": [],
   "name": "problem_set_2.ipynb",
   "provenance": []
  },
  "kernelspec": {
   "display_name": "Python 3",
   "language": "python",
   "name": "python3"
  },
  "language_info": {
   "codemirror_mode": {
    "name": "ipython",
    "version": 3
   },
   "file_extension": ".py",
   "mimetype": "text/x-python",
   "name": "python",
   "nbconvert_exporter": "python",
   "pygments_lexer": "ipython3",
   "version": "3.7.7"
  }
 },
 "nbformat": 4,
 "nbformat_minor": 1
}
