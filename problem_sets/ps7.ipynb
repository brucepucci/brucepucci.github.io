{
 "cells": [
  {
   "cell_type": "code",
   "execution_count": null,
   "metadata": {
    "colab": {},
    "colab_type": "code",
    "id": "GVS0hSFwurJw"
   },
   "outputs": [],
   "source": [
    "### PLEASE FILL THESE IN\n",
    "\n",
    "# Student Name:\n",
    "# Student Email:"
   ]
  },
  {
   "cell_type": "markdown",
   "metadata": {
    "colab_type": "text",
    "id": "GFFHgR8Pidwm"
   },
   "source": [
    "# Problem Set #7 - Files\n",
    "\n",
    "This assignment is worth 10 points. You will need to write a function that accomplishes the goal of each problem statement. You must make sure that you function name and parameters are exactly as specified. If your function fails any of the tests, either in this notebook or ones that I define outside of this notebook, the exercise will be marked incorrect."
   ]
  },
  {
   "cell_type": "markdown",
   "metadata": {
    "colab_type": "text",
    "id": "G0bJjikxr_TN"
   },
   "source": [
    "### Here is an example of a problem statement and a proper solution that passes the associated tests on the cell below."
   ]
  },
  {
   "cell_type": "markdown",
   "metadata": {
    "colab_type": "text",
    "id": "G0bJjikxr_TN"
   },
   "source": [
    "## Example Exercise\n",
    "name:\n",
    "    \n",
    "    add\n",
    "\n",
    "arguments:\n",
    "\n",
    "    * a (numeric),\n",
    "    \n",
    "    * b (numeric),\n",
    "    \n",
    "    * inverse (bool; optional: default=False)\n",
    "    \n",
    "returns:\n",
    "\n",
    "    a + b or a + b * -1 if inverse"
   ]
  },
  {
   "cell_type": "code",
   "execution_count": null,
   "metadata": {},
   "outputs": [],
   "source": [
    "def add(a, b, inverse=False):\n",
    "    if inverse:\n",
    "        return (a + b) * -1\n",
    "    else:\n",
    "        return a + b"
   ]
  },
  {
   "cell_type": "code",
   "execution_count": null,
   "metadata": {},
   "outputs": [],
   "source": [
    "assert add(1, 2) == 3\n",
    "assert add(1, 2, True) == -3\n",
    "assert add(1, 2, inverse=True) == -3"
   ]
  },
  {
   "cell_type": "markdown",
   "metadata": {},
   "source": [
    "## Google Drive Set-Up\n",
    "\n",
    "If you want a walk through of these steps check out the beginning of Thursday's class.\n",
    "\n",
    "1) Download the materials needed for this problem set [here](https://brucepucci.github.io/problem_sets/hw_7_files.zip)\n",
    "\n",
    "2) Unzip that downloaded file. You should have a folder called `hw_7_files` after the unzipping.\n",
    "\n",
    "3) Drag the folder `hw_7_files` into your Case account Google Drive.\n",
    "\n",
    "4) Run the cell below to import the Google Drive python library and allow Collab to access Drive\n",
    "\n",
    "5) Click the link provided after running that cell select you Case account and click \"Allow\"\n",
    "\n",
    "6) Copy the code (key) provided and paste it in the text box.\n",
    "\n",
    "7) Hit Enter\n",
    "\n",
    "You now have access to your Google Drive files from Google Colab. I've also included the import statement for the `os` and `json` libraries. You will need to use `os` and `json` in your solutions. You need to use os or read from the files in the `hw_7_files` for every problem in this problem set."
   ]
  },
  {
   "cell_type": "code",
   "execution_count": null,
   "metadata": {},
   "outputs": [],
   "source": [
    "import os\n",
    "import json\n",
    "\n",
    "from google.colab import drive\n",
    "drive.mount('/content/drive')"
   ]
  },
  {
   "cell_type": "markdown",
   "metadata": {
    "colab_type": "text",
    "id": "5Ob7rR5ew8et"
   },
   "source": [
    "## Exercise #1\n",
    "\n",
    "name:\n",
    "\n",
    "    count_file_extension\n",
    "\n",
    "arguments:\n",
    "\n",
    "    * path: String representing relative path for a folder inside of hw_7_files\n",
    "    * extension: String representing a file extension\n",
    "    \n",
    "returns:\n",
    "    \n",
    "    Integer for a count of the number of files inside the given path with the given extension\n",
    "    \n",
    "    Example path... \"hw_7_files/cats\""
   ]
  },
  {
   "cell_type": "code",
   "execution_count": null,
   "metadata": {},
   "outputs": [],
   "source": [
    "### count_file_extension goes here"
   ]
  },
  {
   "cell_type": "code",
   "execution_count": null,
   "metadata": {
    "colab": {},
    "colab_type": "code",
    "id": "p89DaP_Q60Cx"
   },
   "outputs": [],
   "source": [
    "assert count_file_extension('hw_7_files/cats', '.txt') == 1\n",
    "assert count_file_extension('hw_7_files/cats/images', '.png') == 4\n",
    "assert count_file_extension('hw_7_files/cats/images', '.jpg') == 0"
   ]
  },
  {
   "cell_type": "markdown",
   "metadata": {
    "colab_type": "text",
    "id": "prlBa_bdxCF7"
   },
   "source": [
    "## Exercise #2\n",
    "\n",
    "name:\n",
    "    \n",
    "    is_cat_name\n",
    "\n",
    "arguments:\n",
    "\n",
    "    * name: String representing the name of a cat\n",
    "\n",
    "returns:\n",
    "\n",
    "    hw_7_files/cats/list_of_cats.txt is a list of cat names. Return True if the argument passed is one of those names. False if not."
   ]
  },
  {
   "cell_type": "code",
   "execution_count": null,
   "metadata": {},
   "outputs": [],
   "source": [
    "### is_cat_name goes here"
   ]
  },
  {
   "cell_type": "code",
   "execution_count": null,
   "metadata": {
    "colab": {},
    "colab_type": "code",
    "id": "V4qtajafxJpI"
   },
   "outputs": [],
   "source": [
    "assert is_cat_name('Doggy') == False\n",
    "assert is_cat_name('Smokey') == True\n",
    "assert is_cat_name('Boots') == True\n",
    "assert is_cat_name('Garfield') == False"
   ]
  },
  {
   "cell_type": "markdown",
   "metadata": {
    "colab_type": "text",
    "id": "xSFlGkeByTym"
   },
   "source": [
    "## Exercise #3\n",
    "\n",
    "name:\n",
    "    \n",
    "    dogs_and_cats\n",
    "\n",
    "arguments:\n",
    "    \n",
    "    None\n",
    "    \n",
    "returns:\n",
    "\n",
    "    A list of strings with the names that are in both hw_7_files/cats/list_of_cats.txt and hw_7_files/dogs/list_of_dogs.txt"
   ]
  },
  {
   "cell_type": "code",
   "execution_count": null,
   "metadata": {},
   "outputs": [],
   "source": [
    "### dogs_and_cats goes here"
   ]
  },
  {
   "cell_type": "code",
   "execution_count": null,
   "metadata": {
    "colab": {},
    "colab_type": "code",
    "id": "BMyGDCxA1jUP"
   },
   "outputs": [],
   "source": [
    "assert 'Alex' in dogs_and_cats()\n",
    "assert 'Abby' not in dogs_and_cats()\n",
    "assert 'Tiger' not in dogs_and_cats()\n",
    "assert 'My Pet' not in dogs_and_cats()"
   ]
  },
  {
   "cell_type": "markdown",
   "metadata": {
    "colab_type": "text",
    "id": "Teo1QQIM7on2"
   },
   "source": [
    "## Exercise #4\n",
    "\n",
    "name:\n",
    "\n",
    "    get_family\n",
    "\n",
    "arguments:\n",
    "\n",
    "    * species: String representing the species of an Antarctic bird\n",
    "    \n",
    "returns:\n",
    "\n",
    "    A string that gives the \"family\" that `species` belongs to.\n",
    "    \n",
    "    hw_7_files/birds/data.json has some data on Antarctic birds. You should decode the json file using the json library. After the `json.load` call you will have a Python dictionary.\n",
    "    \n",
    "    The element \"birds\" in the dictionary is a list of different families of birds. Each element in that list is a dictionary of 2 items, 'family' and 'members'. You will be given the name of a species that is guaranteed a member of one of the families. You should return the family in which `species` is a member of."
   ]
  },
  {
   "cell_type": "code",
   "execution_count": null,
   "metadata": {},
   "outputs": [],
   "source": [
    "### get_family goes here"
   ]
  },
  {
   "cell_type": "code",
   "execution_count": null,
   "metadata": {},
   "outputs": [],
   "source": [
    "assert get_family(\"Sooty shearwater\") == \"Shearwaters and petrels\"\n",
    "assert get_family(\"Snowy sheathbill\") == \"Sheathbills\"\n",
    "assert get_family(\"Antarctic tern\") == \"Terns\""
   ]
  }
 ],
 "metadata": {
  "colab": {
   "collapsed_sections": [],
   "name": "problem_set_2.ipynb",
   "provenance": []
  },
  "kernelspec": {
   "display_name": "Python 3",
   "language": "python",
   "name": "python3"
  },
  "language_info": {
   "codemirror_mode": {
    "name": "ipython",
    "version": 3
   },
   "file_extension": ".py",
   "mimetype": "text/x-python",
   "name": "python",
   "nbconvert_exporter": "python",
   "pygments_lexer": "ipython3",
   "version": "3.7.7"
  }
 },
 "nbformat": 4,
 "nbformat_minor": 1
}
