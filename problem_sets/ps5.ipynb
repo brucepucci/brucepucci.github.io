{
 "cells": [
  {
   "cell_type": "code",
   "execution_count": null,
   "metadata": {
    "colab": {},
    "colab_type": "code",
    "id": "GVS0hSFwurJw"
   },
   "outputs": [],
   "source": [
    "### PLEASE FILL THESE IN\n",
    "\n",
    "# Student Name:\n",
    "# Student Email:"
   ]
  },
  {
   "cell_type": "markdown",
   "metadata": {
    "colab_type": "text",
    "id": "GFFHgR8Pidwm"
   },
   "source": [
    "# Problem Set #5 - Functions\n",
    "\n",
    "This assignment is worth 10 points. You will need to write a function that accomplishes the goal of each problem statement. You must make sure that you function name and parameters are exactly as specified. If your function fails any of the tests, either in this notebook or ones that I define outside of this notebook, the exercise will be marked incorrect."
   ]
  },
  {
   "cell_type": "markdown",
   "metadata": {
    "colab_type": "text",
    "id": "G0bJjikxr_TN"
   },
   "source": [
    "### Here is an example of a problem statement and a proper solution that passes the associated tests on the cell below."
   ]
  },
  {
   "cell_type": "markdown",
   "metadata": {
    "colab_type": "text",
    "id": "G0bJjikxr_TN"
   },
   "source": [
    "## Example Exercise\n",
    "name:\n",
    "    \n",
    "    add\n",
    "\n",
    "arguments:\n",
    "    * a (numeric),\n",
    "    \n",
    "    * b (numeric),\n",
    "    \n",
    "    * inverse (bool; optional: default=False)\n",
    "    \n",
    "returns:\n",
    "\n",
    "    a + b or a + b * -1 if inverse"
   ]
  },
  {
   "cell_type": "code",
   "execution_count": null,
   "metadata": {},
   "outputs": [],
   "source": [
    "def add(a, b, inverse=False):\n",
    "    if inverse:\n",
    "        return (a + b) * -1\n",
    "    else:\n",
    "        return a + b"
   ]
  },
  {
   "cell_type": "code",
   "execution_count": null,
   "metadata": {},
   "outputs": [],
   "source": [
    "assert add(1, 2) == 3\n",
    "assert add(1, 2, True) == -3\n",
    "assert add(1, 2, inverse=True) == -3"
   ]
  },
  {
   "cell_type": "markdown",
   "metadata": {
    "colab_type": "text",
    "id": "5Ob7rR5ew8et"
   },
   "source": [
    "## Exercise #1\n",
    "\n",
    "name:\n",
    "\n",
    "    calc_paycheck\n",
    "\n",
    "arguments:\n",
    "    * hours (int),\n",
    "    \n",
    "    * wage (float),\n",
    "    \n",
    "    * ot (bool; optional: default=False),\n",
    "    \n",
    "returns:\n",
    "    \n",
    "    calcuate the total weekly pay for a worker with the formula `hours` * `wage`. If the worker is overtime eligible (denoted by parameter `ot`) they will reveive 150% of their hourly wage for any time over 40 hours."
   ]
  },
  {
   "cell_type": "code",
   "execution_count": null,
   "metadata": {},
   "outputs": [],
   "source": [
    "### calc_paycheck goes here"
   ]
  },
  {
   "cell_type": "code",
   "execution_count": null,
   "metadata": {
    "colab": {},
    "colab_type": "code",
    "id": "p89DaP_Q60Cx"
   },
   "outputs": [],
   "source": [
    "assert calc_paycheck(40, 10.) == 400\n",
    "assert calc_paycheck(41, 10.) == 410\n",
    "assert calc_paycheck(41, 10., ot=True) == 415\n",
    "assert calc_paycheck(0, 10.) == 0\n",
    "assert calc_paycheck(80, 20., ot=True) == 2000"
   ]
  },
  {
   "cell_type": "markdown",
   "metadata": {
    "colab_type": "text",
    "id": "prlBa_bdxCF7"
   },
   "source": [
    "## Exercise #2\n",
    "\n",
    "name:\n",
    "    \n",
    "    better_deal\n",
    "\n",
    "arguments:\n",
    "    * lump_sum (numeric),\n",
    "    \n",
    "    * hours (int),\n",
    "    \n",
    "    * wage (float),\n",
    "    \n",
    "    * ot (bool; optional: default=False),\n",
    "    \n",
    "returns:\n",
    "\n",
    "    Use the function you wrote in Exercise #1 (`calc_paycheck`) to chose between a \"lump sum\" payment or \"hourly wage\" for a given task. If the total pay for a lump sum is >= the total pay from an hourly wage return the string \"lump sum\" otherwise return the string \"hourly wage\".\n",
    "\n",
    "Note:\n",
    "\n",
    "    You MUST call the function `calc_paycheck` from exercise 1 in your function."
   ]
  },
  {
   "cell_type": "code",
   "execution_count": null,
   "metadata": {},
   "outputs": [],
   "source": [
    "### better_deal goes here"
   ]
  },
  {
   "cell_type": "code",
   "execution_count": null,
   "metadata": {
    "colab": {},
    "colab_type": "code",
    "id": "V4qtajafxJpI"
   },
   "outputs": [],
   "source": [
    "assert better_deal(2000, 40, 10) == 'lump sum'\n",
    "assert better_deal(200, 40, 10) == 'hourly wage'\n",
    "assert better_deal(412, 41, 10) == 'lump sum'\n",
    "assert better_deal(412, 41, 10, True) == 'hourly wage'"
   ]
  },
  {
   "cell_type": "markdown",
   "metadata": {
    "colab_type": "text",
    "id": "xSFlGkeByTym"
   },
   "source": [
    "## Exercise #3\n",
    "\n",
    "name:\n",
    "    \n",
    "    calc_distance\n",
    "\n",
    "arguments:\n",
    "    \n",
    "    * point_a (tuple of length 2, ie (4, 2) as coordinants in a 2d coordinate plane)\n",
    "    \n",
    "    * point_b (same as point_a)\n",
    "    \n",
    "returns:\n",
    "\n",
    "    The distance between the 2 points in a 2d coordinate plane"
   ]
  },
  {
   "cell_type": "code",
   "execution_count": null,
   "metadata": {},
   "outputs": [],
   "source": [
    "### calc_distance goes here"
   ]
  },
  {
   "cell_type": "code",
   "execution_count": null,
   "metadata": {
    "colab": {},
    "colab_type": "code",
    "id": "BMyGDCxA1jUP"
   },
   "outputs": [],
   "source": [
    "assert calc_distance((0, 0), (0, 1)) == 1\n",
    "assert calc_distance((0, 0), (0, 0)) == 0\n",
    "assert calc_distance((0, 0), (0, -1)) == 1\n",
    "assert calc_distance((3, 2), (9, 7)) == 61**.5"
   ]
  },
  {
   "cell_type": "markdown",
   "metadata": {
    "colab_type": "text",
    "id": "Teo1QQIM7on2"
   },
   "source": [
    "## Exercise #4\n",
    "\n",
    "name:\n",
    "\n",
    "    closest_city\n",
    "\n",
    "arguments:\n",
    "\n",
    "    * taget_city (string, must be a key in `city_coordinates` which is defined below)\n",
    "    \n",
    "returns:\n",
    "\n",
    "    The name of the nearest city in straight line distance to the target city. Use the function `calc_distance` that you defined in ecercise #3. Consider the dictionary `city_coordinates` given below a global variable and use it's values as the location of each city defined by it's respective key. You must run the cell below to register the dictionary `city_coordinates`. See the assert statements for useage examples.\n",
    "    \n",
    "Note:\n",
    "\n",
    "    You MUST call the function `calc_distance` from exercise 3 in your function."
   ]
  },
  {
   "cell_type": "code",
   "execution_count": null,
   "metadata": {},
   "outputs": [],
   "source": [
    "city_coordinates = {\n",
    "    'Hong Kong': (9, 10),\n",
    "    'New York': (2, 2),\n",
    "    'Los Angeles': (-10, 12),\n",
    "    'Tokyo': (0, 2),\n",
    "    'London': (-3, -3),\n",
    "    'Toronto': (5, 5),\n",
    "    'Rome': (-14, 0),\n",
    "    'Paris': (10, 10),\n",
    "}"
   ]
  },
  {
   "cell_type": "code",
   "execution_count": null,
   "metadata": {},
   "outputs": [],
   "source": [
    "### closest_city goes here"
   ]
  },
  {
   "cell_type": "code",
   "execution_count": null,
   "metadata": {},
   "outputs": [],
   "source": [
    "assert closest_city('Tokyo') == 'New York'\n",
    "assert closest_city('Toronto') == 'New York'\n",
    "assert closest_city('Hong Kong') == 'Paris'"
   ]
  }
 ],
 "metadata": {
  "colab": {
   "collapsed_sections": [],
   "name": "problem_set_2.ipynb",
   "provenance": []
  },
  "kernelspec": {
   "display_name": "Python 3",
   "language": "python",
   "name": "python3"
  },
  "language_info": {
   "codemirror_mode": {
    "name": "ipython",
    "version": 3
   },
   "file_extension": ".py",
   "mimetype": "text/x-python",
   "name": "python",
   "nbconvert_exporter": "python",
   "pygments_lexer": "ipython3",
   "version": "3.7.4"
  }
 },
 "nbformat": 4,
 "nbformat_minor": 1
}
