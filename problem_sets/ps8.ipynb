{
 "cells": [
  {
   "cell_type": "code",
   "execution_count": null,
   "metadata": {
    "colab": {},
    "colab_type": "code",
    "id": "GVS0hSFwurJw"
   },
   "outputs": [],
   "source": [
    "### PLEASE FILL THESE IN\n",
    "\n",
    "# Student Name:\n",
    "# Student Email:"
   ]
  },
  {
   "cell_type": "markdown",
   "metadata": {
    "colab_type": "text",
    "id": "GFFHgR8Pidwm"
   },
   "source": [
    "# Problem Set #8 - Pandas\n",
    "\n",
    "This assignment is worth 10 points. You will need to write a function that accomplishes the goal of each problem statement. You must make sure that you function name and parameters are exactly as specified. If your function fails any of the tests, either in this notebook or ones that I define outside of this notebook, the exercise will be marked incorrect."
   ]
  },
  {
   "cell_type": "markdown",
   "metadata": {
    "colab_type": "text",
    "id": "G0bJjikxr_TN"
   },
   "source": [
    "### Here is an example of a problem statement and a proper solution that passes the associated tests on the cell below."
   ]
  },
  {
   "cell_type": "markdown",
   "metadata": {
    "colab_type": "text",
    "id": "G0bJjikxr_TN"
   },
   "source": [
    "## Example Exercise\n",
    "name:\n",
    "    \n",
    "    add\n",
    "\n",
    "arguments:\n",
    "\n",
    "    * a (numeric),\n",
    "    \n",
    "    * b (numeric),\n",
    "    \n",
    "    * inverse (bool; optional: default=False)\n",
    "    \n",
    "returns:\n",
    "\n",
    "    a + b or a + b * -1 if inverse"
   ]
  },
  {
   "cell_type": "code",
   "execution_count": null,
   "metadata": {},
   "outputs": [],
   "source": [
    "def add(a, b, inverse=False):\n",
    "    if inverse:\n",
    "        return (a + b) * -1\n",
    "    else:\n",
    "        return a + b"
   ]
  },
  {
   "cell_type": "code",
   "execution_count": null,
   "metadata": {},
   "outputs": [],
   "source": [
    "assert add(1, 2) == 3\n",
    "assert add(1, 2, True) == -3\n",
    "assert add(1, 2, inverse=True) == -3"
   ]
  },
  {
   "cell_type": "code",
   "execution_count": null,
   "metadata": {},
   "outputs": [],
   "source": [
    "import pandas as pd"
   ]
  },
  {
   "cell_type": "markdown",
   "metadata": {
    "colab_type": "text",
    "id": "5Ob7rR5ew8et"
   },
   "source": [
    "## Exercise #1\n",
    "\n",
    "name:\n",
    "\n",
    "    average_price_by_section\n",
    "\n",
    "arguments:\n",
    "\n",
    "    * df: Pandas DataFrame representing a list of grocery store items\n",
    "    * section: String representing a section of the grocery store\n",
    "    \n",
    "returns:\n",
    "    \n",
    "    float representing the mean price of the items in the given section\n",
    "    \n",
    "    Use the DataFrame given in the cell below"
   ]
  },
  {
   "cell_type": "code",
   "execution_count": null,
   "metadata": {},
   "outputs": [],
   "source": [
    "grocery_items = pd.DataFrame({\n",
    "    'item_name': ['butter', 'milk', 'eggs', 'bread', 'dinner_rolls', 'toothpaste', 'shampoo', 'sugar', 'oatmeal', 'cereal'],\n",
    "    'price': [6.5, 4.5, 3, 4, 5, 7, 10, 5.4, 2.5, 5.25],\n",
    "    'stock': [10, 20, 40, 55, 22, 10, 32, 40, 1, 9],\n",
    "    'section': ['dairy', 'dairy', 'dairy', 'bread', 'bread', 'toiletries', 'toiletries', 'baking', 'pantry', 'pantry'],\n",
    "    'perishable': [True, True, True, True, True, False, False, False, False, False]\n",
    "})"
   ]
  },
  {
   "cell_type": "code",
   "execution_count": null,
   "metadata": {},
   "outputs": [],
   "source": [
    "### average_price_by_section goes here"
   ]
  },
  {
   "cell_type": "code",
   "execution_count": null,
   "metadata": {
    "colab": {},
    "colab_type": "code",
    "id": "p89DaP_Q60Cx"
   },
   "outputs": [],
   "source": [
    "assert average_price_by_section(grocery_items, 'baking') == 5.4\n",
    "assert average_price_by_section(grocery_items, 'toiletries') == 8.5\n",
    "assert average_price_by_section(grocery_items, 'bread') == 4.5"
   ]
  },
  {
   "cell_type": "markdown",
   "metadata": {
    "colab_type": "text",
    "id": "prlBa_bdxCF7"
   },
   "source": [
    "## Exercise #2\n",
    "\n",
    "name:\n",
    "    \n",
    "    max_total_stock_amount\n",
    "\n",
    "arguments:\n",
    "\n",
    "    * df: Pandas DataFrame representing a list of grocery store items\n",
    "\n",
    "returns:\n",
    "\n",
    "    float representing the max total amount in stock of any item\n",
    "    \n",
    "    total amount in stock = price * stock\n",
    "    \n",
    "    Use the DataFrame given in the cell below"
   ]
  },
  {
   "cell_type": "code",
   "execution_count": null,
   "metadata": {},
   "outputs": [],
   "source": [
    "grocery_items = pd.DataFrame({\n",
    "    'item_name': ['butter', 'milk', 'eggs', 'bread', 'dinner_rolls', 'toothpaste', 'shampoo', 'sugar', 'oatmeal', 'cereal'],\n",
    "    'price': [6.5, 4.5, 3, 4, 5, 7, 10, 5.4, 2.5, 5.25],\n",
    "    'stock': [10, 20, 40, 55, 22, 10, 32, 40, 1, 9],\n",
    "    'section': ['dairy', 'dairy', 'dairy', 'bread', 'bread', 'toiletries', 'toiletries', 'baking', 'pantry', 'pantry'],\n",
    "    'perishable': [True, True, True, True, True, False, False, False, False, False]\n",
    "})"
   ]
  },
  {
   "cell_type": "code",
   "execution_count": null,
   "metadata": {},
   "outputs": [],
   "source": [
    "### max_total_stock_amount goes here"
   ]
  },
  {
   "cell_type": "code",
   "execution_count": null,
   "metadata": {
    "colab": {},
    "colab_type": "code",
    "id": "V4qtajafxJpI"
   },
   "outputs": [],
   "source": [
    "assert max_total_stock_amount(grocery_items) == 320.0"
   ]
  }
 ],
 "metadata": {
  "colab": {
   "collapsed_sections": [],
   "name": "problem_set_2.ipynb",
   "provenance": []
  },
  "kernelspec": {
   "display_name": "Python 3",
   "language": "python",
   "name": "python3"
  },
  "language_info": {
   "codemirror_mode": {
    "name": "ipython",
    "version": 3
   },
   "file_extension": ".py",
   "mimetype": "text/x-python",
   "name": "python",
   "nbconvert_exporter": "python",
   "pygments_lexer": "ipython3",
   "version": "3.7.7"
  }
 },
 "nbformat": 4,
 "nbformat_minor": 1
}
