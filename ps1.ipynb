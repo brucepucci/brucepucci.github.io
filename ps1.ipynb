{
  "nbformat": 4,
  "nbformat_minor": 0,
  "metadata": {
    "colab": {
      "name": "problem_set_1.ipynb",
      "provenance": [],
      "collapsed_sections": []
    },
    "kernelspec": {
      "name": "python3",
      "display_name": "Python 3"
    }
  },
  "cells": [
    {
      "cell_type": "code",
      "metadata": {
        "id": "GVS0hSFwurJw",
        "colab_type": "code",
        "colab": {}
      },
      "source": [
        "### PLEASE FILL THESE IN\n",
        "\n",
        "# Student Name:\n",
        "# Student Email:"
      ],
      "execution_count": 0,
      "outputs": []
    },
    {
      "cell_type": "markdown",
      "metadata": {
        "id": "GFFHgR8Pidwm",
        "colab_type": "text"
      },
      "source": [
        "# Assignment #1 - Python Intro and Data Types\n",
        "\n",
        "This assignment is worth 10 points. You will need to fill in your solutions between the comments \"### BEGIN SOLUTION\" and \"### END SOLUTION\". The requirements for each problem will be defined in a multi-line string at the top of each function. If your function fails any of the tests, either in this notebook or ones that I define outside of this notebook, the exercise will be marked incorrect."
      ]
    },
    {
      "cell_type": "markdown",
      "metadata": {
        "id": "G0bJjikxr_TN",
        "colab_type": "text"
      },
      "source": [
        "\n",
        "This is very important: **MAKE SURE YOUR CODE IS AT THE SAME INDENT LEVEL AS THE COMMENTED LINES**. An example looks like this\n",
        "\n",
        "```\n",
        "# YES\n",
        "\n",
        "def example(a):\n",
        "    ### BEGIN SOLUTION\n",
        "    my_solution = a + a\n",
        "    return my_solution\n",
        "    ### END SOLUTION\n",
        "```\n",
        "\n",
        "An incorrect example looks like this. This will be graded as incorrect.\n",
        "\n",
        "```\n",
        "# NO\n",
        "\n",
        "def example(a):\n",
        "    ### BEGIN SOLUTION\n",
        "  my_solution = a + a\n",
        "    return my_solution\n",
        "    ### END SOLUTION\n",
        "```"
      ]
    },
    {
      "cell_type": "markdown",
      "metadata": {
        "id": "CmMvOTr6sBWS",
        "colab_type": "text"
      },
      "source": [
        "\n",
        "To help with this I suggest you click on the gear logo in the top right and set the following settings...\n",
        "1. Under editor tab set indent level to 4\n",
        "2. Enable the \"Show line numbers option\"\n"
      ]
    },
    {
      "cell_type": "markdown",
      "metadata": {
        "id": "xh6rDFsmsCog",
        "colab_type": "text"
      },
      "source": [
        "It is also very important that you DO NOT change the names of the functions. They will be graded as wrong if they do not have the same name as given here."
      ]
    },
    {
      "cell_type": "markdown",
      "metadata": {
        "id": "nclSfaOGvGrI",
        "colab_type": "text"
      },
      "source": [
        "# Exercises Start Here"
      ]
    },
    {
      "cell_type": "markdown",
      "metadata": {
        "id": "5Ob7rR5ew8et",
        "colab_type": "text"
      },
      "source": [
        "### Exercise #1"
      ]
    },
    {
      "cell_type": "code",
      "metadata": {
        "id": "qb-OIJTI6tDZ",
        "colab_type": "code",
        "colab": {}
      },
      "source": [
        "def exercise_1(a):\n",
        "    \"\"\"\n",
        "    Assume a is an integer.\n",
        "    Return an integer\n",
        "    Goal: This function must return the integer 5\n",
        "    \"\"\"\n",
        "    ### BEGIN SOLUTION\n",
        "    ### END SOLUTION"
      ],
      "execution_count": 0,
      "outputs": []
    },
    {
      "cell_type": "code",
      "metadata": {
        "id": "p89DaP_Q60Cx",
        "colab_type": "code",
        "colab": {}
      },
      "source": [
        "# These are intended to test if your code works properly. You are graded on the solution being correct not on these tests passing.\n",
        "assert exercise_1(1) == 5\n",
        "assert exercise_1(10) != 4.0\n",
        "assert exercise_1(100) != 6.0"
      ],
      "execution_count": 0,
      "outputs": []
    },
    {
      "cell_type": "markdown",
      "metadata": {
        "id": "prlBa_bdxCF7",
        "colab_type": "text"
      },
      "source": [
        "### Exercise #2"
      ]
    },
    {
      "cell_type": "code",
      "metadata": {
        "id": "mODUhQNgpA6l",
        "colab_type": "code",
        "colab": {}
      },
      "source": [
        "def exercise_2(a):\n",
        "    \"\"\"\n",
        "    Assume a is a string.\n",
        "    Return a string.\n",
        "    Goal: Write a function that adds the characters '!!!' to the end of a\n",
        "    \"\"\"\n",
        "    ### BEGIN SOLUTION\n",
        "    ### END SOLUTION"
      ],
      "execution_count": 0,
      "outputs": []
    },
    {
      "cell_type": "code",
      "metadata": {
        "id": "V4qtajafxJpI",
        "colab_type": "code",
        "colab": {}
      },
      "source": [
        "# These are intended to test if your code works properly. You are graded on the solution being correct not on these tests passing.\n",
        "assert exercise_2('Ahhhh') == 'Ahhhh!!!'\n",
        "assert exercise_2(' ') == ' !!!'\n",
        "assert exercise_2(\"\"\"\n",
        "\n",
        "whoa\"\"\") == '\\n\\nwhoa!!!'"
      ],
      "execution_count": 0,
      "outputs": []
    },
    {
      "cell_type": "markdown",
      "metadata": {
        "id": "xSFlGkeByTym",
        "colab_type": "text"
      },
      "source": [
        "### Exercise #3"
      ]
    },
    {
      "cell_type": "code",
      "metadata": {
        "id": "xfgAWpfkyAx-",
        "colab_type": "code",
        "colab": {}
      },
      "source": [
        "def exercise_3(a):\n",
        "    \"\"\"\n",
        "    Assume a is a string.\n",
        "    Return a bool\n",
        "    Goal: Write a function that returns True the number of characters in a is evenly divisble by 7\n",
        "    \"\"\"\n",
        "    ### BEGIN SOLUTION\n",
        "    ### END SOLUTION"
      ],
      "execution_count": 0,
      "outputs": []
    },
    {
      "cell_type": "code",
      "metadata": {
        "id": "BMyGDCxA1jUP",
        "colab_type": "code",
        "colab": {}
      },
      "source": [
        "# These are intended to test if your code works properly. You are graded on the solution being correct not on these tests passing.\n",
        "assert exercise_3('abc') == False\n",
        "assert exercise_3(\"England\") == True"
      ],
      "execution_count": 0,
      "outputs": []
    },
    {
      "cell_type": "markdown",
      "metadata": {
        "id": "Teo1QQIM7on2",
        "colab_type": "text"
      },
      "source": [
        "### Exercise 4"
      ]
    },
    {
      "cell_type": "code",
      "metadata": {
        "id": "gGsIL5uW7rCf",
        "colab_type": "code",
        "colab": {}
      },
      "source": [
        "def exercise_4(a):\n",
        "    \"\"\"\n",
        "    Assume a is numreic.\n",
        "    Return a bool\n",
        "    Goal: Wrtie a function that returns True if when a is added to 100 the result is greater than 20\n",
        "    \"\"\"\n",
        "    ### BEGIN SOLUTION\n",
        "    ### END SOLUTION"
      ],
      "execution_count": 0,
      "outputs": []
    },
    {
      "cell_type": "code",
      "metadata": {
        "id": "VDSE81KV8HFZ",
        "colab_type": "code",
        "colab": {}
      },
      "source": [
        "assert exercise_4(1.0) == True\n",
        "assert exercise_4(-900) == False"
      ],
      "execution_count": 0,
      "outputs": []
    },
    {
      "cell_type": "markdown",
      "metadata": {
        "id": "-acHlZxS8U-4",
        "colab_type": "text"
      },
      "source": [
        "### Exercise 5"
      ]
    },
    {
      "cell_type": "code",
      "metadata": {
        "id": "nLpLbqj78W5Q",
        "colab_type": "code",
        "colab": {}
      },
      "source": [
        "def exercise_5(a):\n",
        "    \"\"\"\n",
        "    Assume a is numeric\n",
        "    Return a numeric\n",
        "    Goal: Write a function that returns the highest value from the list provided, but include a in that list\n",
        "    \"\"\"\n",
        "    ### BEGIN SOLUTION\n",
        "    list_of_numbers = [-2, 0, 1, 100]\n",
        "    ### END SOLUTION"
      ],
      "execution_count": 0,
      "outputs": []
    },
    {
      "cell_type": "code",
      "metadata": {
        "id": "PDwoYfJR9ENx",
        "colab_type": "code",
        "colab": {}
      },
      "source": [
        "assert exercise_5(-100) == 100\n",
        "assert exercise_5(100.1) == 100.1"
      ],
      "execution_count": 0,
      "outputs": []
    },
    {
      "cell_type": "markdown",
      "metadata": {
        "id": "fSoNC5oh9RVD",
        "colab_type": "text"
      },
      "source": [
        "### Exercise 6"
      ]
    },
    {
      "cell_type": "code",
      "metadata": {
        "id": "ZUZ9WpKY9VZF",
        "colab_type": "code",
        "colab": {}
      },
      "source": [
        "def exercise_6(a):\n",
        "    \"\"\"\n",
        "    Assume a is a string\n",
        "    Return a bool\n",
        "    Goal: Write a function that tells you if the square of the length of your string is an even number\n",
        "    \"\"\"\n",
        "    ### BEGIN SOLUTION\n",
        "    ### END SOLUTION"
      ],
      "execution_count": 0,
      "outputs": []
    },
    {
      "cell_type": "code",
      "metadata": {
        "id": "x7ZNfbk1_SqT",
        "colab_type": "code",
        "colab": {}
      },
      "source": [
        "assert exercise_6(' ') == False\n",
        "assert exercise_6('abcdefg') == False\n",
        "assert exercise_6('ab') == True"
      ],
      "execution_count": 0,
      "outputs": []
    },
    {
      "cell_type": "markdown",
      "metadata": {
        "id": "zPbrmV2pArF2",
        "colab_type": "text"
      },
      "source": [
        "### Exercise 7"
      ]
    },
    {
      "cell_type": "code",
      "metadata": {
        "id": "jsNs0hG4AqIb",
        "colab_type": "code",
        "colab": {}
      },
      "source": [
        "def exercise_7(a):\n",
        "    \"\"\"\n",
        "    Assume a is an int > 0\n",
        "    Return a bool\n",
        "    Goal: Write a function returns True if a is evenly divisble by both 3 and 5 (No if statements allowed)\n",
        "    \"\"\"\n",
        "    ### BEGIN SOLUTION\n",
        "    ### END SOLUTION"
      ],
      "execution_count": 0,
      "outputs": []
    },
    {
      "cell_type": "code",
      "metadata": {
        "id": "FXp9omy-BPft",
        "colab_type": "code",
        "colab": {}
      },
      "source": [
        "assert exercise_7(3) == False\n",
        "assert exercise_7(4) == False\n",
        "assert exercise_7(15) == True"
      ],
      "execution_count": 0,
      "outputs": []
    },
    {
      "cell_type": "markdown",
      "metadata": {
        "id": "NoYgfyIxwHFl",
        "colab_type": "text"
      },
      "source": [
        "### Exercise 8"
      ]
    },
    {
      "cell_type": "code",
      "metadata": {
        "id": "olJiRVGTBn9V",
        "colab_type": "code",
        "colab": {}
      },
      "source": [
        "def exercise_8(a):\n",
        "    \"\"\"\n",
        "    Assume a is an int > 0\n",
        "    Return a bool\n",
        "    Goal: Write a function returns True if either the quotient or remainder is equal to 2 when a is divided by 8\n",
        "    \"\"\"\n",
        "    ### BEGIN SOLUTION\n",
        "    ### END SOLUTION"
      ],
      "execution_count": 0,
      "outputs": []
    },
    {
      "cell_type": "code",
      "metadata": {
        "id": "bdITj7vpxJNQ",
        "colab_type": "code",
        "colab": {}
      },
      "source": [
        "assert exercise_8(8) == False\n",
        "assert exercise_8(10) == True\n",
        "assert exercise_8(6) == False"
      ],
      "execution_count": 0,
      "outputs": []
    },
    {
      "cell_type": "markdown",
      "metadata": {
        "id": "q1VVWyERxQnr",
        "colab_type": "text"
      },
      "source": [
        "### Exercise 9"
      ]
    },
    {
      "cell_type": "code",
      "metadata": {
        "id": "5skHVGjcxSbd",
        "colab_type": "code",
        "colab": {}
      },
      "source": [
        "def exercise_9():\n",
        "    \"\"\"\n",
        "    No input\n",
        "    Return a string\n",
        "    Goal: Return a string that has both the character ' and \" in it\n",
        "    \"\"\"\n",
        "    ### BEGIN SOLUTION\n",
        "    ### END SOLUTION"
      ],
      "execution_count": 0,
      "outputs": []
    },
    {
      "cell_type": "code",
      "metadata": {
        "id": "aLo0FhVoza6E",
        "colab_type": "code",
        "colab": {}
      },
      "source": [
        "assert \"'\" in exercise_9()\n",
        "assert '\"' in exercise_9()"
      ],
      "execution_count": 0,
      "outputs": []
    },
    {
      "cell_type": "markdown",
      "metadata": {
        "id": "n6bt9THfz5qp",
        "colab_type": "text"
      },
      "source": [
        "### Exercise 10"
      ]
    },
    {
      "cell_type": "code",
      "metadata": {
        "id": "FkbE2RADztBS",
        "colab_type": "code",
        "colab": {}
      },
      "source": [
        "def exercise_10(a):\n",
        "    \"\"\"\n",
        "    Assume a can be any type\n",
        "    Return a bool\n",
        "    Goal: Return True if a is of numeric type (no if statement allowed)\n",
        "    \"\"\"\n",
        "    ### BEGIN SOLUTION\n",
        "    ### END SOLUTION"
      ],
      "execution_count": 0,
      "outputs": []
    },
    {
      "cell_type": "code",
      "metadata": {
        "id": "F9iZ_ij803lU",
        "colab_type": "code",
        "colab": {}
      },
      "source": [
        "assert exercise_10(0) == True\n",
        "assert exercise_10('0') == False"
      ],
      "execution_count": 0,
      "outputs": []
    }
  ]
}