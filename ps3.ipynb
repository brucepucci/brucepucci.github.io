{
 "cells": [
  {
   "cell_type": "code",
   "execution_count": null,
   "metadata": {
    "colab": {},
    "colab_type": "code",
    "id": "GVS0hSFwurJw"
   },
   "outputs": [],
   "source": [
    "### PLEASE FILL THESE IN\n",
    "\n",
    "# Student Name:\n",
    "# Student Email:"
   ]
  },
  {
   "cell_type": "markdown",
   "metadata": {
    "colab_type": "text",
    "id": "GFFHgR8Pidwm"
   },
   "source": [
    "# Assignment #3 - Lists and for loops\n",
    "\n",
    "This assignment is worth 10 points. You will need to fill in your solutions between the comments \"### BEGIN SOLUTION\" and \"### END SOLUTION\". The requirements for each problem will be defined in a multi-line string at the top of each function. If your function fails any of the tests, either in this notebook or ones that I define outside of this notebook, the exercise will be marked incorrect."
   ]
  },
  {
   "cell_type": "markdown",
   "metadata": {
    "colab_type": "text",
    "id": "G0bJjikxr_TN"
   },
   "source": [
    "\n",
    "This is very important: **MAKE SURE YOUR CODE IS AT THE SAME INDENT LEVEL AS THE COMMENTED LINES**. An example looks like this\n",
    "\n",
    "```\n",
    "# YES\n",
    "\n",
    "def example(a):\n",
    "    ### BEGIN SOLUTION\n",
    "    my_solution = a + a\n",
    "    return my_solution\n",
    "    ### END SOLUTION\n",
    "```\n",
    "\n",
    "An incorrect example looks like this. This will be graded as incorrect.\n",
    "\n",
    "```\n",
    "# NO\n",
    "\n",
    "def example(a):\n",
    "    ### BEGIN SOLUTION\n",
    "  my_solution = a + a\n",
    "    return my_solution\n",
    "    ### END SOLUTION\n",
    "```"
   ]
  },
  {
   "cell_type": "markdown",
   "metadata": {
    "colab_type": "text",
    "id": "CmMvOTr6sBWS"
   },
   "source": [
    "\n",
    "To help with this I suggest you click on the gear logo in the top right and set the following settings...\n",
    "1. Under editor tab set indent level to 4\n",
    "2. Enable the \"Show line numbers option\"\n"
   ]
  },
  {
   "cell_type": "markdown",
   "metadata": {
    "colab_type": "text",
    "id": "xh6rDFsmsCog"
   },
   "source": [
    "It is also very important that you DO NOT change the names of the functions. They will be graded as wrong if they do not have the same name as given here."
   ]
  },
  {
   "cell_type": "markdown",
   "metadata": {
    "colab_type": "text",
    "id": "nclSfaOGvGrI"
   },
   "source": [
    "# Exercises Start Here"
   ]
  },
  {
   "cell_type": "markdown",
   "metadata": {
    "colab_type": "text",
    "id": "5Ob7rR5ew8et"
   },
   "source": [
    "### Exercise #1"
   ]
  },
  {
   "cell_type": "code",
   "execution_count": null,
   "metadata": {
    "colab": {},
    "colab_type": "code",
    "id": "qb-OIJTI6tDZ"
   },
   "outputs": [],
   "source": [
    "def exercise_1(my_list):\n",
    "    \"\"\"\n",
    "    Assume `my_list` is a list of all numeric values, `my_list` has at least 2 items\n",
    "    Return a list\n",
    "    Goal: Return a list containing the 2 largest values in a\n",
    "    \"\"\"\n",
    "    ### BEGIN SOLUTION\n",
    "    ### END SOLUTION"
   ]
  },
  {
   "cell_type": "code",
   "execution_count": null,
   "metadata": {
    "colab": {},
    "colab_type": "code",
    "id": "p89DaP_Q60Cx"
   },
   "outputs": [],
   "source": [
    "assert exercise_1([1, 2, 3, 4, 5, 6]) == [5, 6] or exercise_1([1, 2, 3, 4, 5, 6]) == [6, 5]\n",
    "assert exercise_1([1, 1, 1, 1, 1]) == [1, 1]\n",
    "assert exercise_1([-100, -1000, -10000]) == [-100, -1000] or exercise_1([-100, -1000, -10000]) == [-1000, -100]"
   ]
  },
  {
   "cell_type": "markdown",
   "metadata": {
    "colab_type": "text",
    "id": "prlBa_bdxCF7"
   },
   "source": [
    "### Exercise #2"
   ]
  },
  {
   "cell_type": "code",
   "execution_count": null,
   "metadata": {
    "colab": {},
    "colab_type": "code",
    "id": "mODUhQNgpA6l"
   },
   "outputs": [],
   "source": [
    "def exercise_2(my_list):\n",
    "    \"\"\"\n",
    "    Assume `my_list` is a list of strings.\n",
    "    Return an int\n",
    "    Goal: Return the number of strings in `my_list` the begin with the character 'T'\n",
    "    \"\"\"\n",
    "    \n",
    "    ### BEGIN SOLUTION\n",
    "    ### END SOLUTION"
   ]
  },
  {
   "cell_type": "code",
   "execution_count": null,
   "metadata": {
    "colab": {},
    "colab_type": "code",
    "id": "V4qtajafxJpI"
   },
   "outputs": [],
   "source": [
    "assert exercise_2(['a', 'b', 'c']) == 0\n",
    "assert exercise_2(['Totally', 'Dude']) == 1\n",
    "assert exercise_2(['Toronto', 'Torino', 'Toledo']) == 3"
   ]
  },
  {
   "cell_type": "markdown",
   "metadata": {
    "colab_type": "text",
    "id": "xSFlGkeByTym"
   },
   "source": [
    "### Exercise #3"
   ]
  },
  {
   "cell_type": "code",
   "execution_count": null,
   "metadata": {
    "colab": {},
    "colab_type": "code",
    "id": "xfgAWpfkyAx-"
   },
   "outputs": [],
   "source": [
    "def exercise_3(my_list):\n",
    "    \"\"\"\n",
    "    Assume `my_list` is a list of lists, the sublists are all lists of ints\n",
    "    Return a list\n",
    "    Goal: \"flatten\" `my_list` from a list of lists in to a SORTED\n",
    "          list containing all of the elements of the sublists\n",
    "    \"\"\"\n",
    "    ### BEGIN SOLUTION\n",
    "    ### END SOLUTION"
   ]
  },
  {
   "cell_type": "code",
   "execution_count": null,
   "metadata": {
    "colab": {},
    "colab_type": "code",
    "id": "BMyGDCxA1jUP"
   },
   "outputs": [],
   "source": [
    "assert exercise_3([[1, 2, 3], [4, 5, 6]]) == [1, 2, 3, 4, 5, 6]\n",
    "assert exercise_3([[1, 1, 1, 1, 1]]) == [1, 1, 1, 1, 1]\n",
    "assert exercise_3([[1], [2], [4], [6, 7]]) == [1, 2, 4, 6, 7]"
   ]
  },
  {
   "cell_type": "markdown",
   "metadata": {
    "colab_type": "text",
    "id": "Teo1QQIM7on2"
   },
   "source": [
    "### Exercise 4"
   ]
  },
  {
   "cell_type": "code",
   "execution_count": null,
   "metadata": {
    "colab": {},
    "colab_type": "code",
    "id": "gGsIL5uW7rCf"
   },
   "outputs": [],
   "source": [
    "def exercise_4(my_list):\n",
    "    \"\"\"\n",
    "    Assume `my_list` list of strings\n",
    "    Return a list\n",
    "    Goal: Return a list of the unique values in `my_list`; in other words return\n",
    "          a list with the values of `my_list` without duplicates\n",
    "    \"\"\"\n",
    "    ### BEGIN SOLUTION\n",
    "    ### END SOLUTION"
   ]
  },
  {
   "cell_type": "code",
   "execution_count": null,
   "metadata": {
    "colab": {},
    "colab_type": "code",
    "id": "VDSE81KV8HFZ"
   },
   "outputs": [],
   "source": [
    "return_val = exercise_4(['1', '1', '1', '1'])\n",
    "assert len(return_val) == 1 and all(item in return_val for item in ['1'])\n",
    "\n",
    "return_val = exercise_4(['Trump', 'Obama', 'Bush', 'Clinton', 'Bush'])\n",
    "assert len(return_val) == 4 and all(item in return_val for item in ['Clinton', 'Trump', 'Obama', 'Bush'])"
   ]
  },
  {
   "cell_type": "markdown",
   "metadata": {
    "colab_type": "text",
    "id": "-acHlZxS8U-4"
   },
   "source": [
    "### Exercise 5"
   ]
  },
  {
   "cell_type": "code",
   "execution_count": null,
   "metadata": {
    "colab": {},
    "colab_type": "code",
    "id": "nLpLbqj78W5Q"
   },
   "outputs": [],
   "source": [
    "def exercise_5(my_list):\n",
    "    \"\"\"\n",
    "    Assume `my_list` is a list with an even number of elements\n",
    "    Return a list\n",
    "    Goal: Add the string 'Hi!' as the middle element of my_list\n",
    "    \n",
    "    Hint: If my_list is given with 4 elements return value should have 5 with 'Hi!' between\n",
    "          the first 2 elements of my_list and the last 2 elements of my_list\n",
    "    \"\"\"\n",
    "    ### BEGIN SOLUTION\n",
    "    ### END SOLUTION"
   ]
  },
  {
   "cell_type": "code",
   "execution_count": null,
   "metadata": {
    "colab": {},
    "colab_type": "code",
    "id": "PDwoYfJR9ENx"
   },
   "outputs": [],
   "source": [
    "assert exercise_5([1, 2, 4, 5]) == [1, 2, 'Hi!', 4, 5]\n",
    "assert exercise_5([[], []]) == [[], 'Hi!', []]\n",
    "assert exercise_5(list('abcdef')) == ['a', 'b', 'c', 'Hi!', 'd', 'e', 'f']"
   ]
  },
  {
   "cell_type": "markdown",
   "metadata": {
    "colab_type": "text",
    "id": "fSoNC5oh9RVD"
   },
   "source": [
    "### Exercise 6"
   ]
  },
  {
   "cell_type": "code",
   "execution_count": null,
   "metadata": {
    "colab": {},
    "colab_type": "code",
    "id": "ZUZ9WpKY9VZF"
   },
   "outputs": [],
   "source": [
    "def exercise_6(my_list):\n",
    "    \"\"\"\n",
    "    Assume `my_list` is a list strings, bools, or numerics\n",
    "    Retrun a bool\n",
    "    Goal: If the first and last element of my_list are the same return True otherwise return False\n",
    "    \"\"\"\n",
    "    \n",
    "    ### BEGIN SOLUTION\n",
    "    ### END SOLUTION"
   ]
  },
  {
   "cell_type": "code",
   "execution_count": null,
   "metadata": {
    "colab": {},
    "colab_type": "code",
    "id": "x7ZNfbk1_SqT"
   },
   "outputs": [],
   "source": [
    "assert exercise_6(['a', 'b', 'a']) == True\n",
    "assert exercise_6(['a', 'b' 'c']) == False\n",
    "assert exercise_6(['-1']) == True"
   ]
  },
  {
   "cell_type": "markdown",
   "metadata": {
    "colab_type": "text",
    "id": "fSoNC5oh9RVD"
   },
   "source": [
    "### Exercise 7"
   ]
  },
  {
   "cell_type": "code",
   "execution_count": null,
   "metadata": {
    "colab": {},
    "colab_type": "code",
    "id": "ZUZ9WpKY9VZF"
   },
   "outputs": [],
   "source": [
    "def exercise_7(my_list):\n",
    "    \"\"\"\n",
    "    Assume `my_list` is a list of numerics\n",
    "    Retrun an list of 2 ints\n",
    "    Goal: Return The index of the 2 largest elements in the list\n",
    "    \"\"\"\n",
    "    \n",
    "    ### BEGIN SOLUTION\n",
    "    ### END SOLUTION"
   ]
  },
  {
   "cell_type": "code",
   "execution_count": null,
   "metadata": {
    "colab": {},
    "colab_type": "code",
    "id": "x7ZNfbk1_SqT"
   },
   "outputs": [],
   "source": [
    "assert exercise_1([1, 2, 3, 4, 5, 6]) == [4, 5] or exercise_1([1, 2, 3, 4, 5, 6]) == [5, 4]\n",
    "assert exercise_1([-100, -1000, -10000]) == [0, 1] or exercise_1([-100, -1000, -10000]) == [1, 0]"
   ]
  },
  {
   "cell_type": "code",
   "execution_count": null,
   "metadata": {},
   "outputs": [],
   "source": []
  }
 ],
 "metadata": {
  "colab": {
   "collapsed_sections": [],
   "name": "problem_set_2.ipynb",
   "provenance": []
  },
  "kernelspec": {
   "display_name": "Python 3",
   "language": "python",
   "name": "python3"
  },
  "language_info": {
   "codemirror_mode": {
    "name": "ipython",
    "version": 3
   },
   "file_extension": ".py",
   "mimetype": "text/x-python",
   "name": "python",
   "nbconvert_exporter": "python",
   "pygments_lexer": "ipython3",
   "version": "3.7.4"
  }
 },
 "nbformat": 4,
 "nbformat_minor": 1
}
