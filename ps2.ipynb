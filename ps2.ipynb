{
 "cells": [
  {
   "cell_type": "code",
   "execution_count": 0,
   "metadata": {
    "colab": {},
    "colab_type": "code",
    "id": "GVS0hSFwurJw"
   },
   "outputs": [],
   "source": [
    "### PLEASE FILL THESE IN\n",
    "\n",
    "# Student Name:\n",
    "# Student Email:"
   ]
  },
  {
   "cell_type": "markdown",
   "metadata": {
    "colab_type": "text",
    "id": "GFFHgR8Pidwm"
   },
   "source": [
    "# Assignment #2 - Flow Control (if and while)\n",
    "\n",
    "This assignment is worth 10 points. You will need to fill in your solutions between the comments \"### BEGIN SOLUTION\" and \"### END SOLUTION\". The requirements for each problem will be defined in a multi-line string at the top of each function. If your function fails any of the tests, either in this notebook or ones that I define outside of this notebook, the exercise will be marked incorrect."
   ]
  },
  {
   "cell_type": "markdown",
   "metadata": {
    "colab_type": "text",
    "id": "G0bJjikxr_TN"
   },
   "source": [
    "\n",
    "This is very important: **MAKE SURE YOUR CODE IS AT THE SAME INDENT LEVEL AS THE COMMENTED LINES**. An example looks like this\n",
    "\n",
    "```\n",
    "# YES\n",
    "\n",
    "def example(a):\n",
    "    ### BEGIN SOLUTION\n",
    "    my_solution = a + a\n",
    "    return my_solution\n",
    "    ### END SOLUTION\n",
    "```\n",
    "\n",
    "An incorrect example looks like this. This will be graded as incorrect.\n",
    "\n",
    "```\n",
    "# NO\n",
    "\n",
    "def example(a):\n",
    "    ### BEGIN SOLUTION\n",
    "  my_solution = a + a\n",
    "    return my_solution\n",
    "    ### END SOLUTION\n",
    "```"
   ]
  },
  {
   "cell_type": "markdown",
   "metadata": {
    "colab_type": "text",
    "id": "CmMvOTr6sBWS"
   },
   "source": [
    "\n",
    "To help with this I suggest you click on the gear logo in the top right and set the following settings...\n",
    "1. Under editor tab set indent level to 4\n",
    "2. Enable the \"Show line numbers option\"\n"
   ]
  },
  {
   "cell_type": "markdown",
   "metadata": {
    "colab_type": "text",
    "id": "xh6rDFsmsCog"
   },
   "source": [
    "It is also very important that you DO NOT change the names of the functions. They will be graded as wrong if they do not have the same name as given here."
   ]
  },
  {
   "cell_type": "markdown",
   "metadata": {
    "colab_type": "text",
    "id": "nclSfaOGvGrI"
   },
   "source": [
    "# Exercises Start Here"
   ]
  },
  {
   "cell_type": "markdown",
   "metadata": {
    "colab_type": "text",
    "id": "5Ob7rR5ew8et"
   },
   "source": [
    "### Exercise #1"
   ]
  },
  {
   "cell_type": "code",
   "execution_count": 0,
   "metadata": {
    "colab": {},
    "colab_type": "code",
    "id": "qb-OIJTI6tDZ"
   },
   "outputs": [],
   "source": [
    "def exercise_1(a):\n",
    "    \"\"\"\n",
    "    Assume `a` is either an int or a float\n",
    "    Return an numeric\n",
    "    Goal: If `a` is an integer return twice it's value. If `a` is a float return its square\n",
    "    \"\"\"\n",
    "    ### BEGIN SOLUTION\n",
    "    ### END SOLUTION"
   ]
  },
  {
   "cell_type": "code",
   "execution_count": 0,
   "metadata": {
    "colab": {},
    "colab_type": "code",
    "id": "p89DaP_Q60Cx"
   },
   "outputs": [],
   "source": [
    "assert exercise_1(1) == 2\n",
    "assert exercise_1(4.) == 16.\n",
    "assert exercise_1(100) == 200\n",
    "assert exercise_1(100.) == 10000."
   ]
  },
  {
   "cell_type": "markdown",
   "metadata": {
    "colab_type": "text",
    "id": "prlBa_bdxCF7"
   },
   "source": [
    "### Exercise #2"
   ]
  },
  {
   "cell_type": "code",
   "execution_count": 0,
   "metadata": {
    "colab": {},
    "colab_type": "code",
    "id": "mODUhQNgpA6l"
   },
   "outputs": [],
   "source": [
    "def exercise_2(a):\n",
    "    \"\"\"\n",
    "    Assume `a` is a numeric.\n",
    "    Return a string.\n",
    "    Goal: Return the letter grade for this homework assuming `a` is the percentage of points obtained on it.\n",
    "    \n",
    "    Hint:\n",
    "    | A | >= 90% \n",
    "    | B | >= 80% \n",
    "    | C | >= 70%\n",
    "    | D | >= 60%\n",
    "    | F | <  60%\n",
    "    \"\"\"\n",
    "    ### BEGIN SOLUTION\n",
    "    ### END SOLUTION"
   ]
  },
  {
   "cell_type": "code",
   "execution_count": 0,
   "metadata": {
    "colab": {},
    "colab_type": "code",
    "id": "V4qtajafxJpI"
   },
   "outputs": [],
   "source": [
    "assert exercise_2(0) == 'F'\n",
    "assert exercise_2(70) == 'C'\n",
    "assert exercise_2(80.0001) == 'B'"
   ]
  },
  {
   "cell_type": "markdown",
   "metadata": {
    "colab_type": "text",
    "id": "xSFlGkeByTym"
   },
   "source": [
    "### Exercise #3"
   ]
  },
  {
   "cell_type": "code",
   "execution_count": 0,
   "metadata": {
    "colab": {},
    "colab_type": "code",
    "id": "xfgAWpfkyAx-"
   },
   "outputs": [],
   "source": [
    "def exercise_3(a):\n",
    "    \"\"\"\n",
    "    Assume `a` is an integer representing a calendar year\n",
    "    Return a string\n",
    "    Goal: If `a` is a leap year return the string 'Leap Year'. If not return the string 'Not Leap Year'.\n",
    "    \n",
    "    Hint: 2020 is a leap year and leap years occur every 4 years. So, 2016 and 2024 are also leap years.\n",
    "    \"\"\"\n",
    "    ### BEGIN SOLUTION\n",
    "    ### END SOLUTION"
   ]
  },
  {
   "cell_type": "code",
   "execution_count": 0,
   "metadata": {
    "colab": {},
    "colab_type": "code",
    "id": "BMyGDCxA1jUP"
   },
   "outputs": [],
   "source": [
    "assert exercise_3(2020) == 'Leap Year'\n",
    "assert exercise_3(2010) == 'Not Leap Year'\n",
    "assert exercise_3(0) == 'Leap Year'"
   ]
  },
  {
   "cell_type": "markdown",
   "metadata": {
    "colab_type": "text",
    "id": "Teo1QQIM7on2"
   },
   "source": [
    "### Exercise 4"
   ]
  },
  {
   "cell_type": "code",
   "execution_count": 0,
   "metadata": {
    "colab": {},
    "colab_type": "code",
    "id": "gGsIL5uW7rCf"
   },
   "outputs": [],
   "source": [
    "def exercise_4(a):\n",
    "    \"\"\"\n",
    "    Assume `a` is an integer\n",
    "    Return a numeric\n",
    "    Goal: Return the sum of squares for the first `a` odd positive integers\n",
    "    \n",
    "    Hint: If `a` is 5 that first 5 positive odd integers are [1, 3, 5, 7 ,9]\n",
    "    \"\"\"\n",
    "    ### BEGIN SOLUTION\n",
    "    ### END SOLUTION"
   ]
  },
  {
   "cell_type": "code",
   "execution_count": 0,
   "metadata": {
    "colab": {},
    "colab_type": "code",
    "id": "VDSE81KV8HFZ"
   },
   "outputs": [],
   "source": [
    "assert exercise_4(2) == 10\n",
    "assert exercise_4(6) == 286\n",
    "assert exercise_4(1) == 1"
   ]
  },
  {
   "cell_type": "markdown",
   "metadata": {
    "colab_type": "text",
    "id": "-acHlZxS8U-4"
   },
   "source": [
    "### Exercise 5"
   ]
  },
  {
   "cell_type": "code",
   "execution_count": 0,
   "metadata": {
    "colab": {},
    "colab_type": "code",
    "id": "nLpLbqj78W5Q"
   },
   "outputs": [],
   "source": [
    "def exercise_5(a):\n",
    "    \"\"\"\n",
    "    Assume `a` is an integer > 1\n",
    "    Return a numeric\n",
    "    Goal: Return the sum of the integers between 1 and 2*a excluding a\n",
    "    \n",
    "    Hint: Include 1 and 2*a in your sum\n",
    "    \"\"\"\n",
    "    ### BEGIN SOLUTION\n",
    "    ### END SOLUTION"
   ]
  },
  {
   "cell_type": "code",
   "execution_count": 0,
   "metadata": {
    "colab": {},
    "colab_type": "code",
    "id": "PDwoYfJR9ENx"
   },
   "outputs": [],
   "source": [
    "assert exercise_5(8) == 128\n",
    "assert exercise_5(100) == 20000\n",
    "assert exercise_5(2) == 8"
   ]
  },
  {
   "cell_type": "markdown",
   "metadata": {
    "colab_type": "text",
    "id": "fSoNC5oh9RVD"
   },
   "source": [
    "### Exercise 6"
   ]
  },
  {
   "cell_type": "code",
   "execution_count": 0,
   "metadata": {
    "colab": {},
    "colab_type": "code",
    "id": "ZUZ9WpKY9VZF"
   },
   "outputs": [],
   "source": [
    "def exercise_6(a):\n",
    "    \"\"\"\n",
    "    Assume `a` is a positive integer\n",
    "    Return a string\n",
    "    Goal: Return the string 'hello' repeated `a` times alternating between the characters '_' and '-' between each 'hello'\n",
    "    \n",
    "    Hint: if `a` is 3 you should return either 'hello_hello-hello' or 'hello-hello_hello'.\n",
    "    Hint 2: Do not start or end your string with '_' or '-'\n",
    "    \"\"\"\n",
    "    \n",
    "    ### BEGIN SOLUTION\n",
    "    ### END SOLUTION"
   ]
  },
  {
   "cell_type": "code",
   "execution_count": 0,
   "metadata": {
    "colab": {},
    "colab_type": "code",
    "id": "x7ZNfbk1_SqT"
   },
   "outputs": [],
   "source": [
    "assert exercise_6(2) == 'hello_hello' or exercise_6(2) == 'hello-hello'\n",
    "assert exercise_6(5) == 'hello-hello_hello-hello_hello' or exercise_6(5) == 'hello_hello-hello_hello-hello'\n",
    "assert exercise_6(1) == 'hello'"
   ]
  }
 ],
 "metadata": {
  "colab": {
   "collapsed_sections": [],
   "name": "problem_set_2.ipynb",
   "provenance": []
  },
  "kernelspec": {
   "display_name": "Python 3",
   "language": "python",
   "name": "python3"
  },
  "language_info": {
   "codemirror_mode": {
    "name": "ipython",
    "version": 3
   },
   "file_extension": ".py",
   "mimetype": "text/x-python",
   "name": "python",
   "nbconvert_exporter": "python",
   "pygments_lexer": "ipython3",
   "version": "3.7.4"
  }
 },
 "nbformat": 4,
 "nbformat_minor": 1
}
