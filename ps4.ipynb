{
 "cells": [
  {
   "cell_type": "code",
   "execution_count": null,
   "metadata": {
    "colab": {},
    "colab_type": "code",
    "id": "GVS0hSFwurJw"
   },
   "outputs": [],
   "source": [
    "### PLEASE FILL THESE IN\n",
    "\n",
    "# Student Name:\n",
    "# Student Email:"
   ]
  },
  {
   "cell_type": "markdown",
   "metadata": {
    "colab_type": "text",
    "id": "GFFHgR8Pidwm"
   },
   "source": [
    "# Assignment #4 - Dictionaries and for loops\n",
    "\n",
    "This assignment is worth 10 points. You will need to fill in your solutions between the comments \"### BEGIN SOLUTION\" and \"### END SOLUTION\". The requirements for each problem will be defined in a multi-line string at the top of each function. If your function fails any of the tests, either in this notebook or ones that I define outside of this notebook, the exercise will be marked incorrect."
   ]
  },
  {
   "cell_type": "markdown",
   "metadata": {
    "colab_type": "text",
    "id": "G0bJjikxr_TN"
   },
   "source": [
    "\n",
    "This is very important: **MAKE SURE YOUR CODE IS AT THE SAME INDENT LEVEL AS THE COMMENTED LINES**. An example looks like this\n",
    "\n",
    "```\n",
    "# YES\n",
    "\n",
    "def example(a):\n",
    "    ### BEGIN SOLUTION\n",
    "    my_solution = a + a\n",
    "    return my_solution\n",
    "    ### END SOLUTION\n",
    "```\n",
    "\n",
    "An incorrect example looks like this. This will be graded as incorrect.\n",
    "\n",
    "```\n",
    "# NO\n",
    "\n",
    "def example(a):\n",
    "    ### BEGIN SOLUTION\n",
    "  my_solution = a + a\n",
    "    return my_solution\n",
    "    ### END SOLUTION\n",
    "```"
   ]
  },
  {
   "cell_type": "markdown",
   "metadata": {
    "colab_type": "text",
    "id": "CmMvOTr6sBWS"
   },
   "source": [
    "\n",
    "To help with this I suggest you click on the gear logo in the top right and set the following settings...\n",
    "1. Under editor tab set indent level to 4\n",
    "2. Enable the \"Show line numbers option\"\n"
   ]
  },
  {
   "cell_type": "markdown",
   "metadata": {
    "colab_type": "text",
    "id": "xh6rDFsmsCog"
   },
   "source": [
    "It is also very important that you DO NOT change the names of the functions. They will be graded as wrong if they do not have the same name as given here."
   ]
  },
  {
   "cell_type": "markdown",
   "metadata": {
    "colab_type": "text",
    "id": "nclSfaOGvGrI"
   },
   "source": [
    "# Exercises Start Here"
   ]
  },
  {
   "cell_type": "markdown",
   "metadata": {
    "colab_type": "text",
    "id": "5Ob7rR5ew8et"
   },
   "source": [
    "### Exercise #1"
   ]
  },
  {
   "cell_type": "code",
   "execution_count": 10,
   "metadata": {
    "colab": {},
    "colab_type": "code",
    "id": "qb-OIJTI6tDZ"
   },
   "outputs": [],
   "source": [
    "def exercise_1(my_list):\n",
    "    \"\"\"\n",
    "    Assume `my_list` is a list of all strings\n",
    "    Return a dict\n",
    "    Goal: Return a dict that is keyed by each unique value in\n",
    "          my_list and it's value is the count of times that\n",
    "          item appears\n",
    "    \"\"\"\n",
    "    ### BEGIN SOLUTION\n",
    "    ### END SOLUTION"
   ]
  },
  {
   "cell_type": "code",
   "execution_count": 11,
   "metadata": {
    "colab": {},
    "colab_type": "code",
    "id": "p89DaP_Q60Cx"
   },
   "outputs": [],
   "source": [
    "return_val = exercise_1(['a', 'b', 'c', 'a', 'a'])\n",
    "assert return_val['a'] == 3\n",
    "assert return_val['b'] == 1\n",
    "assert return_val['c'] == 1"
   ]
  },
  {
   "cell_type": "markdown",
   "metadata": {
    "colab_type": "text",
    "id": "prlBa_bdxCF7"
   },
   "source": [
    "### Exercise #2"
   ]
  },
  {
   "cell_type": "code",
   "execution_count": 4,
   "metadata": {
    "colab": {},
    "colab_type": "code",
    "id": "mODUhQNgpA6l"
   },
   "outputs": [],
   "source": [
    "def exercise_2(val):\n",
    "    \"\"\"\n",
    "    Assume val is a numeric or string\n",
    "    Return a bool\n",
    "    Goal: Test if val is a member of my_dictionary (defined below)\n",
    "          Return True is so, False if not\n",
    "    \"\"\"\n",
    "    my_dictionary = {\n",
    "        'a': 6,\n",
    "        'hello': 'world',\n",
    "        6: 7,\n",
    "        'Case': 'Western Reserve'\n",
    "    }\n",
    "    ### BEGIN SOLUTION\n",
    "    ### END SOLUTION"
   ]
  },
  {
   "cell_type": "code",
   "execution_count": 7,
   "metadata": {
    "colab": {},
    "colab_type": "code",
    "id": "V4qtajafxJpI"
   },
   "outputs": [],
   "source": [
    "assert exercise_2('a') == True\n",
    "assert exercise_2('b') == False"
   ]
  },
  {
   "cell_type": "markdown",
   "metadata": {
    "colab_type": "text",
    "id": "xSFlGkeByTym"
   },
   "source": [
    "### Exercise #3"
   ]
  },
  {
   "cell_type": "code",
   "execution_count": 12,
   "metadata": {
    "colab": {},
    "colab_type": "code",
    "id": "xfgAWpfkyAx-"
   },
   "outputs": [],
   "source": [
    "def exercise_3(my_dictionary):\n",
    "    \"\"\"\n",
    "    Assume `my_dictionary` is a dictionary with all numeric values\n",
    "    Return a numeric\n",
    "    Goal: Return the sum of all the values in 'my_dictionary'\n",
    "    \"\"\"\n",
    "    ### BEGIN SOLUTION\n",
    "    ### END SOLUTION"
   ]
  },
  {
   "cell_type": "code",
   "execution_count": 14,
   "metadata": {
    "colab": {},
    "colab_type": "code",
    "id": "BMyGDCxA1jUP"
   },
   "outputs": [],
   "source": [
    "assert exercise_3({'a': 1, 'b': 2, 'c': 3}) == 6\n",
    "assert exercise_3({'a': -100, 'b': 0, 'c': 100}) == 0"
   ]
  },
  {
   "cell_type": "markdown",
   "metadata": {
    "colab_type": "text",
    "id": "Teo1QQIM7on2"
   },
   "source": [
    "### Exercise 4"
   ]
  },
  {
   "cell_type": "code",
   "execution_count": 17,
   "metadata": {
    "colab": {},
    "colab_type": "code",
    "id": "gGsIL5uW7rCf"
   },
   "outputs": [],
   "source": [
    "def exercise_4(my_dictionary):\n",
    "    \"\"\"\n",
    "    Assume `my_dictionary` is a dictionary\n",
    "    Return a dictionary\n",
    "    Goal: Combine `my_dictionary` with the dictionary defined below\n",
    "          into a single dictionary. If there is a collision in keys \n",
    "          use the, key-value pair in `my_dictionary`.\n",
    "    \"\"\"\n",
    "    given_dictionary = {\n",
    "        'a': 6,\n",
    "        'hello': 'world',\n",
    "        6: 7,\n",
    "        'Case': 'Western Reserve'\n",
    "    }\n",
    "    ### BEGIN SOLUTION\n",
    "    ### END SOLUTION"
   ]
  },
  {
   "cell_type": "code",
   "execution_count": 23,
   "metadata": {
    "colab": {},
    "colab_type": "code",
    "id": "VDSE81KV8HFZ"
   },
   "outputs": [],
   "source": [
    "return_val = exercise_4({'a': 4, 'world': 'hello', 'my_list': []})\n",
    "assert return_val['a'] == 4\n",
    "assert return_val['hello'] == 'world'\n",
    "assert return_val['world'] == 'hello'\n",
    "assert return_val['my_list'] == []\n",
    "assert len(return_val.keys()) == 6"
   ]
  },
  {
   "cell_type": "markdown",
   "metadata": {
    "colab_type": "text",
    "id": "-acHlZxS8U-4"
   },
   "source": [
    "### Exercise 5"
   ]
  },
  {
   "cell_type": "code",
   "execution_count": 26,
   "metadata": {
    "colab": {},
    "colab_type": "code",
    "id": "nLpLbqj78W5Q"
   },
   "outputs": [],
   "source": [
    "def exercise_5(my_dictionary):\n",
    "    \"\"\"\n",
    "    Assume `my_dictionary` is a dictionary with all numeric values\n",
    "            and all string keys\n",
    "    Return a string\n",
    "    Goal: Return the key that has the greatest value\n",
    "    \"\"\"\n",
    "    ### BEGIN SOLUTION\n",
    "    ### END SOLUTION"
   ]
  },
  {
   "cell_type": "code",
   "execution_count": 27,
   "metadata": {
    "colab": {},
    "colab_type": "code",
    "id": "PDwoYfJR9ENx"
   },
   "outputs": [],
   "source": [
    "assert exercise_5({'a': 4, 'b': 10, 'c': 100, 'd': -100, 'e': 50}) == 'c'\n",
    "assert exercise_5({'a': -1, 'b': -2, 'c': -6, 'd': -100, 'e': -1000}) == 'a'"
   ]
  },
  {
   "cell_type": "markdown",
   "metadata": {
    "colab_type": "text",
    "id": "fSoNC5oh9RVD"
   },
   "source": [
    "### Exercise 6"
   ]
  },
  {
   "cell_type": "code",
   "execution_count": 29,
   "metadata": {
    "colab": {},
    "colab_type": "code",
    "id": "ZUZ9WpKY9VZF"
   },
   "outputs": [],
   "source": [
    "def exercise_6(my_list):\n",
    "    \"\"\"\n",
    "    Assume `my_list` is a list of 2 lists, both of the same length\n",
    "    Return a dictionary\n",
    "    Goal: Return a dictionary that is keyed by the elements in the first\n",
    "          list and the values are the associated elements in the second list\n",
    "    \"\"\"\n",
    "    \n",
    "    ### BEGIN SOLUTION\n",
    "    ### END SOLUTION"
   ]
  },
  {
   "cell_type": "code",
   "execution_count": 31,
   "metadata": {
    "colab": {},
    "colab_type": "code",
    "id": "x7ZNfbk1_SqT"
   },
   "outputs": [],
   "source": [
    "return_val = exercise_6([['a', 'b', 'c'], [1, 2, 3]])\n",
    "assert return_val['a'] == 1\n",
    "assert return_val['b'] == 2\n",
    "assert return_val['c'] == 3\n",
    "assert len(return_val.keys()) == 3\n",
    "\n",
    "return_val = exercise_6([[1, 2, 3, 4], ['a', 'b', 'c', 'd']])\n",
    "assert return_val[1] == 'a'\n",
    "assert return_val[2] == 'b'\n",
    "assert return_val[3] == 'c'\n",
    "assert return_val[4] == 'd'\n",
    "assert len(return_val.keys()) == 4"
   ]
  }
 ],
 "metadata": {
  "colab": {
   "collapsed_sections": [],
   "name": "problem_set_2.ipynb",
   "provenance": []
  },
  "kernelspec": {
   "display_name": "Python 3",
   "language": "python",
   "name": "python3"
  },
  "language_info": {
   "codemirror_mode": {
    "name": "ipython",
    "version": 3
   },
   "file_extension": ".py",
   "mimetype": "text/x-python",
   "name": "python",
   "nbconvert_exporter": "python",
   "pygments_lexer": "ipython3",
   "version": "3.7.4"
  }
 },
 "nbformat": 4,
 "nbformat_minor": 1
}
